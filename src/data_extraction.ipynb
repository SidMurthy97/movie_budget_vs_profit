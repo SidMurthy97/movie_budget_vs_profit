{
 "cells": [
  {
   "attachments": {},
   "cell_type": "markdown",
   "metadata": {},
   "source": [
    "# Data Extraction"
   ]
  },
  {
   "cell_type": "code",
   "execution_count": 1,
   "metadata": {},
   "outputs": [],
   "source": [
    "import pandas as pd\n",
    "import seaborn as sns\n",
    "import requests\n",
    "from tqdm import trange"
   ]
  },
  {
   "cell_type": "code",
   "execution_count": 2,
   "metadata": {},
   "outputs": [
    {
     "data": {
      "text/html": [
       "<div>\n",
       "<style scoped>\n",
       "    .dataframe tbody tr th:only-of-type {\n",
       "        vertical-align: middle;\n",
       "    }\n",
       "\n",
       "    .dataframe tbody tr th {\n",
       "        vertical-align: top;\n",
       "    }\n",
       "\n",
       "    .dataframe thead th {\n",
       "        text-align: right;\n",
       "    }\n",
       "</style>\n",
       "<table border=\"1\" class=\"dataframe\">\n",
       "  <thead>\n",
       "    <tr style=\"text-align: right;\">\n",
       "      <th></th>\n",
       "      <th>Unnamed: 0</th>\n",
       "      <th>Release Date</th>\n",
       "      <th>Movie</th>\n",
       "      <th>Production Budget</th>\n",
       "      <th>Domestic Gross</th>\n",
       "      <th>Worldwide Gross</th>\n",
       "    </tr>\n",
       "  </thead>\n",
       "  <tbody>\n",
       "    <tr>\n",
       "      <th>0</th>\n",
       "      <td>1</td>\n",
       "      <td>Dec 9, 2022</td>\n",
       "      <td>Avatar: The Way of Water</td>\n",
       "      <td>$460,000,000</td>\n",
       "      <td>$657,411,991</td>\n",
       "      <td>$2,243,117,055</td>\n",
       "    </tr>\n",
       "    <tr>\n",
       "      <th>1</th>\n",
       "      <td>2</td>\n",
       "      <td>Apr 23, 2019</td>\n",
       "      <td>Avengers: Endgame</td>\n",
       "      <td>$400,000,000</td>\n",
       "      <td>$858,373,000</td>\n",
       "      <td>$2,794,731,755</td>\n",
       "    </tr>\n",
       "  </tbody>\n",
       "</table>\n",
       "</div>"
      ],
      "text/plain": [
       "   Unnamed: 0  Release Date                     Movie Production Budget  \\\n",
       "0           1   Dec 9, 2022  Avatar: The Way of Water      $460,000,000   \n",
       "1           2  Apr 23, 2019         Avengers: Endgame      $400,000,000   \n",
       "\n",
       "  Domestic Gross Worldwide Gross  \n",
       "0   $657,411,991  $2,243,117,055  \n",
       "1   $858,373,000  $2,794,731,755  "
      ]
     },
     "execution_count": 2,
     "metadata": {},
     "output_type": "execute_result"
    }
   ],
   "source": [
    "headers = {'User-Agent':'Mozilla/5.0 (Windows NT 10.0; Win64; x64) AppleWebKit/537.36 (KHTML, like Gecko) Chrome/110.0.0.0 Safari/537.36'}\n",
    "\n",
    "#initial url\n",
    "url = 'https://www.the-numbers.com/movie/budgets/all'\n",
    "html = requests.get(url, headers=headers).content\n",
    "table_list = pd.read_html(html)\n",
    "\n",
    "#specified url only has 1 table\n",
    "assert len(table_list) == 1\n",
    "\n",
    "movie_data = table_list[0]\n",
    "\n",
    "#specified url only has 1 table\n",
    "assert len(table_list) == 1\n",
    "movie_data.head(2)"
   ]
  },
  {
   "cell_type": "code",
   "execution_count": 3,
   "metadata": {},
   "outputs": [
    {
     "name": "stderr",
     "output_type": "stream",
     "text": [
      "100%|██████████| 63/63 [01:25<00:00,  1.35s/it]\n"
     ]
    }
   ],
   "source": [
    "#get all pages worth of data. There are 6301 entries with 99 entries on each page\n",
    "\n",
    "for entry_index in trange(101,6401,100):\n",
    "    next_page_url = url + f\"/{str(entry_index)}\"\n",
    "\n",
    "    html = requests.get(next_page_url, headers=headers).content\n",
    "    table_list = pd.read_html(html)\n",
    "\n",
    "    assert len(table_list) == 1\n",
    "\n",
    "    page_data = table_list[0]\n",
    "\n",
    "    #add to main dataframe\n",
    "\n",
    "    movie_data = pd.concat([movie_data,page_data], ignore_index=True)\n",
    "    "
   ]
  },
  {
   "cell_type": "code",
   "execution_count": 4,
   "metadata": {},
   "outputs": [
    {
     "data": {
      "text/plain": [
       "(6364, 6)"
      ]
     },
     "execution_count": 4,
     "metadata": {},
     "output_type": "execute_result"
    }
   ],
   "source": [
    "movie_data.shape"
   ]
  },
  {
   "attachments": {},
   "cell_type": "markdown",
   "metadata": {},
   "source": [
    "The shape of the data is as expected. Lets do some EDA."
   ]
  },
  {
   "cell_type": "code",
   "execution_count": 5,
   "metadata": {},
   "outputs": [
    {
     "data": {
      "text/html": [
       "<div>\n",
       "<style scoped>\n",
       "    .dataframe tbody tr th:only-of-type {\n",
       "        vertical-align: middle;\n",
       "    }\n",
       "\n",
       "    .dataframe tbody tr th {\n",
       "        vertical-align: top;\n",
       "    }\n",
       "\n",
       "    .dataframe thead th {\n",
       "        text-align: right;\n",
       "    }\n",
       "</style>\n",
       "<table border=\"1\" class=\"dataframe\">\n",
       "  <thead>\n",
       "    <tr style=\"text-align: right;\">\n",
       "      <th></th>\n",
       "      <th>Unnamed: 0</th>\n",
       "      <th>Release Date</th>\n",
       "      <th>Movie</th>\n",
       "      <th>Production Budget</th>\n",
       "      <th>Domestic Gross</th>\n",
       "      <th>Worldwide Gross</th>\n",
       "    </tr>\n",
       "  </thead>\n",
       "  <tbody>\n",
       "    <tr>\n",
       "      <th>0</th>\n",
       "      <td>1</td>\n",
       "      <td>Dec 9, 2022</td>\n",
       "      <td>Avatar: The Way of Water</td>\n",
       "      <td>$460,000,000</td>\n",
       "      <td>$657,411,991</td>\n",
       "      <td>$2,243,117,055</td>\n",
       "    </tr>\n",
       "    <tr>\n",
       "      <th>1</th>\n",
       "      <td>2</td>\n",
       "      <td>Apr 23, 2019</td>\n",
       "      <td>Avengers: Endgame</td>\n",
       "      <td>$400,000,000</td>\n",
       "      <td>$858,373,000</td>\n",
       "      <td>$2,794,731,755</td>\n",
       "    </tr>\n",
       "    <tr>\n",
       "      <th>2</th>\n",
       "      <td>3</td>\n",
       "      <td>May 20, 2011</td>\n",
       "      <td>Pirates of the Caribbean: On Stranger Tides</td>\n",
       "      <td>$379,000,000</td>\n",
       "      <td>$241,071,802</td>\n",
       "      <td>$1,045,713,802</td>\n",
       "    </tr>\n",
       "    <tr>\n",
       "      <th>3</th>\n",
       "      <td>4</td>\n",
       "      <td>Apr 22, 2015</td>\n",
       "      <td>Avengers: Age of Ultron</td>\n",
       "      <td>$365,000,000</td>\n",
       "      <td>$459,005,868</td>\n",
       "      <td>$1,395,316,979</td>\n",
       "    </tr>\n",
       "    <tr>\n",
       "      <th>4</th>\n",
       "      <td>5</td>\n",
       "      <td>May 17, 2023</td>\n",
       "      <td>Fast X</td>\n",
       "      <td>$340,000,000</td>\n",
       "      <td>$0</td>\n",
       "      <td>$0</td>\n",
       "    </tr>\n",
       "  </tbody>\n",
       "</table>\n",
       "</div>"
      ],
      "text/plain": [
       "   Unnamed: 0  Release Date                                        Movie  \\\n",
       "0           1   Dec 9, 2022                     Avatar: The Way of Water   \n",
       "1           2  Apr 23, 2019                            Avengers: Endgame   \n",
       "2           3  May 20, 2011  Pirates of the Caribbean: On Stranger Tides   \n",
       "3           4  Apr 22, 2015                      Avengers: Age of Ultron   \n",
       "4           5  May 17, 2023                                       Fast X   \n",
       "\n",
       "  Production Budget Domestic Gross Worldwide Gross  \n",
       "0      $460,000,000   $657,411,991  $2,243,117,055  \n",
       "1      $400,000,000   $858,373,000  $2,794,731,755  \n",
       "2      $379,000,000   $241,071,802  $1,045,713,802  \n",
       "3      $365,000,000   $459,005,868  $1,395,316,979  \n",
       "4      $340,000,000             $0              $0  "
      ]
     },
     "execution_count": 5,
     "metadata": {},
     "output_type": "execute_result"
    }
   ],
   "source": [
    "movie_data.head()"
   ]
  },
  {
   "cell_type": "code",
   "execution_count": 6,
   "metadata": {},
   "outputs": [
    {
     "name": "stdout",
     "output_type": "stream",
     "text": [
      "<class 'pandas.core.frame.DataFrame'>\n",
      "RangeIndex: 6364 entries, 0 to 6363\n",
      "Data columns (total 6 columns):\n",
      " #   Column             Non-Null Count  Dtype \n",
      "---  ------             --------------  ----- \n",
      " 0   Unnamed: 0         6364 non-null   int64 \n",
      " 1   Release Date       6364 non-null   object\n",
      " 2   Movie              6364 non-null   object\n",
      " 3   Production Budget  6364 non-null   object\n",
      " 4   Domestic Gross     6364 non-null   object\n",
      " 5   Worldwide Gross    6364 non-null   object\n",
      "dtypes: int64(1), object(5)\n",
      "memory usage: 298.4+ KB\n"
     ]
    }
   ],
   "source": [
    "movie_data.info()"
   ]
  },
  {
   "attachments": {},
   "cell_type": "markdown",
   "metadata": {},
   "source": [
    "There are no null columns, so no need to drop or fill data on the index axis. That being said, the \"Unnamed\" column will need to be dropped. In terms of datatypes, lets convert the release date to a datettime and the financial numbers to int."
   ]
  },
  {
   "cell_type": "code",
   "execution_count": 7,
   "metadata": {},
   "outputs": [
    {
     "data": {
      "text/html": [
       "<div>\n",
       "<style scoped>\n",
       "    .dataframe tbody tr th:only-of-type {\n",
       "        vertical-align: middle;\n",
       "    }\n",
       "\n",
       "    .dataframe tbody tr th {\n",
       "        vertical-align: top;\n",
       "    }\n",
       "\n",
       "    .dataframe thead th {\n",
       "        text-align: right;\n",
       "    }\n",
       "</style>\n",
       "<table border=\"1\" class=\"dataframe\">\n",
       "  <thead>\n",
       "    <tr style=\"text-align: right;\">\n",
       "      <th></th>\n",
       "      <th>Release Date</th>\n",
       "      <th>Movie</th>\n",
       "      <th>Production Budget</th>\n",
       "      <th>Domestic Gross</th>\n",
       "      <th>Worldwide Gross</th>\n",
       "    </tr>\n",
       "  </thead>\n",
       "  <tbody>\n",
       "    <tr>\n",
       "      <th>0</th>\n",
       "      <td>Dec 9, 2022</td>\n",
       "      <td>Avatar: The Way of Water</td>\n",
       "      <td>$460,000,000</td>\n",
       "      <td>$657,411,991</td>\n",
       "      <td>$2,243,117,055</td>\n",
       "    </tr>\n",
       "    <tr>\n",
       "      <th>1</th>\n",
       "      <td>Apr 23, 2019</td>\n",
       "      <td>Avengers: Endgame</td>\n",
       "      <td>$400,000,000</td>\n",
       "      <td>$858,373,000</td>\n",
       "      <td>$2,794,731,755</td>\n",
       "    </tr>\n",
       "    <tr>\n",
       "      <th>2</th>\n",
       "      <td>May 20, 2011</td>\n",
       "      <td>Pirates of the Caribbean: On Stranger Tides</td>\n",
       "      <td>$379,000,000</td>\n",
       "      <td>$241,071,802</td>\n",
       "      <td>$1,045,713,802</td>\n",
       "    </tr>\n",
       "    <tr>\n",
       "      <th>3</th>\n",
       "      <td>Apr 22, 2015</td>\n",
       "      <td>Avengers: Age of Ultron</td>\n",
       "      <td>$365,000,000</td>\n",
       "      <td>$459,005,868</td>\n",
       "      <td>$1,395,316,979</td>\n",
       "    </tr>\n",
       "    <tr>\n",
       "      <th>4</th>\n",
       "      <td>May 17, 2023</td>\n",
       "      <td>Fast X</td>\n",
       "      <td>$340,000,000</td>\n",
       "      <td>$0</td>\n",
       "      <td>$0</td>\n",
       "    </tr>\n",
       "  </tbody>\n",
       "</table>\n",
       "</div>"
      ],
      "text/plain": [
       "   Release Date                                        Movie  \\\n",
       "0   Dec 9, 2022                     Avatar: The Way of Water   \n",
       "1  Apr 23, 2019                            Avengers: Endgame   \n",
       "2  May 20, 2011  Pirates of the Caribbean: On Stranger Tides   \n",
       "3  Apr 22, 2015                      Avengers: Age of Ultron   \n",
       "4  May 17, 2023                                       Fast X   \n",
       "\n",
       "  Production Budget Domestic Gross Worldwide Gross  \n",
       "0      $460,000,000   $657,411,991  $2,243,117,055  \n",
       "1      $400,000,000   $858,373,000  $2,794,731,755  \n",
       "2      $379,000,000   $241,071,802  $1,045,713,802  \n",
       "3      $365,000,000   $459,005,868  $1,395,316,979  \n",
       "4      $340,000,000             $0              $0  "
      ]
     },
     "execution_count": 7,
     "metadata": {},
     "output_type": "execute_result"
    }
   ],
   "source": [
    "movie_data.drop(columns=[\"Unnamed: 0\"], inplace = True)\n",
    "movie_data.head()"
   ]
  },
  {
   "attachments": {},
   "cell_type": "markdown",
   "metadata": {},
   "source": [
    "Lets explore and convert the release date columns"
   ]
  },
  {
   "cell_type": "code",
   "execution_count": 8,
   "metadata": {},
   "outputs": [
    {
     "data": {
      "text/plain": [
       "Unknown         113\n",
       "Oct 19, 2007      9\n",
       "Oct 24, 2008      9\n",
       "Oct 8, 2010       9\n",
       "Apr 1, 2011       9\n",
       "               ... \n",
       "Sep 16, 1994      1\n",
       "Jan 26, 2001      1\n",
       "Jan 28, 2013      1\n",
       "Feb 13, 2013      1\n",
       "Mar 2, 2021       1\n",
       "Name: Release Date, Length: 3090, dtype: int64"
      ]
     },
     "execution_count": 8,
     "metadata": {},
     "output_type": "execute_result"
    }
   ],
   "source": [
    "movie_data[\"Release Date\"].value_counts()"
   ]
  },
  {
   "attachments": {},
   "cell_type": "markdown",
   "metadata": {},
   "source": [
    "There are 113 rows with an unkown date. I could find out when they were released, but its a small number of rows to drop in this large dataset. There are also rows where only the year has been noted. Although the full date format is not required, it is a nice to have. Rows where the release date is less than 5 characters will be dropped too."
   ]
  },
  {
   "cell_type": "code",
   "execution_count": 9,
   "metadata": {},
   "outputs": [
    {
     "name": "stdout",
     "output_type": "stream",
     "text": [
      "(6218, 5)\n"
     ]
    },
    {
     "data": {
      "text/html": [
       "<div>\n",
       "<style scoped>\n",
       "    .dataframe tbody tr th:only-of-type {\n",
       "        vertical-align: middle;\n",
       "    }\n",
       "\n",
       "    .dataframe tbody tr th {\n",
       "        vertical-align: top;\n",
       "    }\n",
       "\n",
       "    .dataframe thead th {\n",
       "        text-align: right;\n",
       "    }\n",
       "</style>\n",
       "<table border=\"1\" class=\"dataframe\">\n",
       "  <thead>\n",
       "    <tr style=\"text-align: right;\">\n",
       "      <th></th>\n",
       "      <th>Release Date</th>\n",
       "      <th>Movie</th>\n",
       "      <th>Production Budget</th>\n",
       "      <th>Domestic Gross</th>\n",
       "      <th>Worldwide Gross</th>\n",
       "    </tr>\n",
       "  </thead>\n",
       "  <tbody>\n",
       "    <tr>\n",
       "      <th>0</th>\n",
       "      <td>Dec 9, 2022</td>\n",
       "      <td>Avatar: The Way of Water</td>\n",
       "      <td>$460,000,000</td>\n",
       "      <td>$657,411,991</td>\n",
       "      <td>$2,243,117,055</td>\n",
       "    </tr>\n",
       "    <tr>\n",
       "      <th>1</th>\n",
       "      <td>Apr 23, 2019</td>\n",
       "      <td>Avengers: Endgame</td>\n",
       "      <td>$400,000,000</td>\n",
       "      <td>$858,373,000</td>\n",
       "      <td>$2,794,731,755</td>\n",
       "    </tr>\n",
       "    <tr>\n",
       "      <th>2</th>\n",
       "      <td>May 20, 2011</td>\n",
       "      <td>Pirates of the Caribbean: On Stranger Tides</td>\n",
       "      <td>$379,000,000</td>\n",
       "      <td>$241,071,802</td>\n",
       "      <td>$1,045,713,802</td>\n",
       "    </tr>\n",
       "    <tr>\n",
       "      <th>3</th>\n",
       "      <td>Apr 22, 2015</td>\n",
       "      <td>Avengers: Age of Ultron</td>\n",
       "      <td>$365,000,000</td>\n",
       "      <td>$459,005,868</td>\n",
       "      <td>$1,395,316,979</td>\n",
       "    </tr>\n",
       "    <tr>\n",
       "      <th>4</th>\n",
       "      <td>May 17, 2023</td>\n",
       "      <td>Fast X</td>\n",
       "      <td>$340,000,000</td>\n",
       "      <td>$0</td>\n",
       "      <td>$0</td>\n",
       "    </tr>\n",
       "  </tbody>\n",
       "</table>\n",
       "</div>"
      ],
      "text/plain": [
       "   Release Date                                        Movie  \\\n",
       "0   Dec 9, 2022                     Avatar: The Way of Water   \n",
       "1  Apr 23, 2019                            Avengers: Endgame   \n",
       "2  May 20, 2011  Pirates of the Caribbean: On Stranger Tides   \n",
       "3  Apr 22, 2015                      Avengers: Age of Ultron   \n",
       "4  May 17, 2023                                       Fast X   \n",
       "\n",
       "  Production Budget Domestic Gross Worldwide Gross  \n",
       "0      $460,000,000   $657,411,991  $2,243,117,055  \n",
       "1      $400,000,000   $858,373,000  $2,794,731,755  \n",
       "2      $379,000,000   $241,071,802  $1,045,713,802  \n",
       "3      $365,000,000   $459,005,868  $1,395,316,979  \n",
       "4      $340,000,000             $0              $0  "
      ]
     },
     "execution_count": 9,
     "metadata": {},
     "output_type": "execute_result"
    }
   ],
   "source": [
    "movie_data_clean = movie_data[(movie_data[\"Release Date\"] != \"Unknown\") &\n",
    "                                    (movie_data[\"Release Date\"].str.len() > 9)]\n",
    "print(movie_data_clean.shape)\n",
    "movie_data_clean.head()"
   ]
  },
  {
   "cell_type": "code",
   "execution_count": 12,
   "metadata": {},
   "outputs": [
    {
     "data": {
      "text/html": [
       "<div>\n",
       "<style scoped>\n",
       "    .dataframe tbody tr th:only-of-type {\n",
       "        vertical-align: middle;\n",
       "    }\n",
       "\n",
       "    .dataframe tbody tr th {\n",
       "        vertical-align: top;\n",
       "    }\n",
       "\n",
       "    .dataframe thead th {\n",
       "        text-align: right;\n",
       "    }\n",
       "</style>\n",
       "<table border=\"1\" class=\"dataframe\">\n",
       "  <thead>\n",
       "    <tr style=\"text-align: right;\">\n",
       "      <th></th>\n",
       "      <th>Release Date</th>\n",
       "    </tr>\n",
       "  </thead>\n",
       "  <tbody>\n",
       "    <tr>\n",
       "      <th>0</th>\n",
       "      <td>2022-12-09</td>\n",
       "    </tr>\n",
       "    <tr>\n",
       "      <th>1</th>\n",
       "      <td>2019-04-23</td>\n",
       "    </tr>\n",
       "    <tr>\n",
       "      <th>2</th>\n",
       "      <td>2011-05-20</td>\n",
       "    </tr>\n",
       "    <tr>\n",
       "      <th>3</th>\n",
       "      <td>2015-04-22</td>\n",
       "    </tr>\n",
       "    <tr>\n",
       "      <th>4</th>\n",
       "      <td>2023-05-17</td>\n",
       "    </tr>\n",
       "  </tbody>\n",
       "</table>\n",
       "</div>"
      ],
      "text/plain": [
       "  Release Date\n",
       "0   2022-12-09\n",
       "1   2019-04-23\n",
       "2   2011-05-20\n",
       "3   2015-04-22\n",
       "4   2023-05-17"
      ]
     },
     "execution_count": 12,
     "metadata": {},
     "output_type": "execute_result"
    }
   ],
   "source": [
    "movie_data_final = pd.DataFrame()\n",
    "movie_data_final[\"Release Date\"] = pd.to_datetime(movie_data_clean[\"Release Date\"], format=\"%b %d, %Y\")\n",
    "movie_data_final.head()"
   ]
  },
  {
   "attachments": {},
   "cell_type": "markdown",
   "metadata": {},
   "source": [
    "Lets keep the movie name column as is, but change the comma seperated currency value to an integer amount"
   ]
  },
  {
   "cell_type": "code",
   "execution_count": 17,
   "metadata": {},
   "outputs": [
    {
     "name": "stderr",
     "output_type": "stream",
     "text": [
      "C:\\Users\\Sid Murthy\\AppData\\Local\\Temp\\ipykernel_6936\\3410810997.py:3: FutureWarning: The default value of regex will change from True to False in a future version. In addition, single character regular expressions will *not* be treated as literal strings when regex=True.\n",
      "  movie_data_final[\"Production Budget\"] = movie_data_clean[\"Production Budget\"].str.replace(\"$\",\"\")\n",
      "C:\\Users\\Sid Murthy\\AppData\\Local\\Temp\\ipykernel_6936\\3410810997.py:6: FutureWarning: The default value of regex will change from True to False in a future version. In addition, single character regular expressions will *not* be treated as literal strings when regex=True.\n",
      "  movie_data_final[\"Domestic Gross\"] = movie_data_clean[\"Domestic Gross\"].str.replace(\"$\",\"\")\n",
      "C:\\Users\\Sid Murthy\\AppData\\Local\\Temp\\ipykernel_6936\\3410810997.py:9: FutureWarning: The default value of regex will change from True to False in a future version. In addition, single character regular expressions will *not* be treated as literal strings when regex=True.\n",
      "  movie_data_final[\"Worldwide Gross\"] = movie_data_clean[\"Worldwide Gross\"].str.replace(\"$\",\"\")\n"
     ]
    },
    {
     "data": {
      "text/html": [
       "<div>\n",
       "<style scoped>\n",
       "    .dataframe tbody tr th:only-of-type {\n",
       "        vertical-align: middle;\n",
       "    }\n",
       "\n",
       "    .dataframe tbody tr th {\n",
       "        vertical-align: top;\n",
       "    }\n",
       "\n",
       "    .dataframe thead th {\n",
       "        text-align: right;\n",
       "    }\n",
       "</style>\n",
       "<table border=\"1\" class=\"dataframe\">\n",
       "  <thead>\n",
       "    <tr style=\"text-align: right;\">\n",
       "      <th></th>\n",
       "      <th>Release Date</th>\n",
       "      <th>Title</th>\n",
       "      <th>Production Budget</th>\n",
       "      <th>Domestic Gross</th>\n",
       "      <th>Worldwide Gross</th>\n",
       "    </tr>\n",
       "  </thead>\n",
       "  <tbody>\n",
       "    <tr>\n",
       "      <th>0</th>\n",
       "      <td>2022-12-09</td>\n",
       "      <td>Avatar: The Way of Water</td>\n",
       "      <td>460000000</td>\n",
       "      <td>657411991</td>\n",
       "      <td>2243117055</td>\n",
       "    </tr>\n",
       "    <tr>\n",
       "      <th>1</th>\n",
       "      <td>2019-04-23</td>\n",
       "      <td>Avengers: Endgame</td>\n",
       "      <td>400000000</td>\n",
       "      <td>858373000</td>\n",
       "      <td>2794731755</td>\n",
       "    </tr>\n",
       "    <tr>\n",
       "      <th>2</th>\n",
       "      <td>2011-05-20</td>\n",
       "      <td>Pirates of the Caribbean: On Stranger Tides</td>\n",
       "      <td>379000000</td>\n",
       "      <td>241071802</td>\n",
       "      <td>1045713802</td>\n",
       "    </tr>\n",
       "    <tr>\n",
       "      <th>3</th>\n",
       "      <td>2015-04-22</td>\n",
       "      <td>Avengers: Age of Ultron</td>\n",
       "      <td>365000000</td>\n",
       "      <td>459005868</td>\n",
       "      <td>1395316979</td>\n",
       "    </tr>\n",
       "    <tr>\n",
       "      <th>4</th>\n",
       "      <td>2023-05-17</td>\n",
       "      <td>Fast X</td>\n",
       "      <td>340000000</td>\n",
       "      <td>0</td>\n",
       "      <td>0</td>\n",
       "    </tr>\n",
       "  </tbody>\n",
       "</table>\n",
       "</div>"
      ],
      "text/plain": [
       "  Release Date                                        Title Production Budget  \\\n",
       "0   2022-12-09                     Avatar: The Way of Water         460000000   \n",
       "1   2019-04-23                            Avengers: Endgame         400000000   \n",
       "2   2011-05-20  Pirates of the Caribbean: On Stranger Tides         379000000   \n",
       "3   2015-04-22                      Avengers: Age of Ultron         365000000   \n",
       "4   2023-05-17                                       Fast X         340000000   \n",
       "\n",
       "  Domestic Gross Worldwide Gross  \n",
       "0      657411991      2243117055  \n",
       "1      858373000      2794731755  \n",
       "2      241071802      1045713802  \n",
       "3      459005868      1395316979  \n",
       "4              0               0  "
      ]
     },
     "execution_count": 17,
     "metadata": {},
     "output_type": "execute_result"
    }
   ],
   "source": [
    "movie_data_final[\"Title\"] = movie_data_clean[\"Movie\"]\n",
    "\n",
    "movie_data_final[\"Production Budget\"] = movie_data_clean[\"Production Budget\"].str.replace(\"$\",\"\")\n",
    "movie_data_final[\"Production Budget\"] = movie_data_final[\"Production Budget\"].str.replace(\",\",\"\")\n",
    "\n",
    "movie_data_final[\"Domestic Gross\"] = movie_data_clean[\"Domestic Gross\"].str.replace(\"$\",\"\")\n",
    "movie_data_final[\"Domestic Gross\"] = movie_data_final[\"Domestic Gross\"].str.replace(\",\",\"\")\n",
    "\n",
    "movie_data_final[\"Worldwide Gross\"] = movie_data_clean[\"Worldwide Gross\"].str.replace(\"$\",\"\")\n",
    "movie_data_final[\"Worldwide Gross\"] = movie_data_final[\"Worldwide Gross\"].str.replace(\",\",\"\")\n",
    "\n",
    "movie_data_final.head()"
   ]
  },
  {
   "attachments": {},
   "cell_type": "markdown",
   "metadata": {},
   "source": [
    "Now that the data is cleaned and formatted, we are ready to write it to a csv file"
   ]
  },
  {
   "cell_type": "code",
   "execution_count": 18,
   "metadata": {},
   "outputs": [],
   "source": [
    "movie_data_final.to_csv(\"../data/movie_data.csv\")"
   ]
  }
 ],
 "metadata": {
  "kernelspec": {
   "display_name": "movie_budget_vs_profit",
   "language": "python",
   "name": "movie_budget_vs_profit"
  },
  "language_info": {
   "codemirror_mode": {
    "name": "ipython",
    "version": 3
   },
   "file_extension": ".py",
   "mimetype": "text/x-python",
   "name": "python",
   "nbconvert_exporter": "python",
   "pygments_lexer": "ipython3",
   "version": "3.10.2"
  },
  "orig_nbformat": 4
 },
 "nbformat": 4,
 "nbformat_minor": 2
}
